{
 "cells": [
  {
   "cell_type": "markdown",
   "metadata": {},
   "source": [
    "# TIA - Taller 5: Representación \n",
    "\n",
    "#### Integrantes:\n",
    "- Daniel Felipe Segura Rincon\n",
    "- Andres Felipe Zuleta Romero\n",
    "- Juan Andres Barrera Rodriguez"
   ]
  },
  {
   "cell_type": "code",
   "execution_count": 1,
   "metadata": {},
   "outputs": [],
   "source": [
    "import cv2\n",
    "import numpy as np\n",
    "import matplotlib.pyplot as plt"
   ]
  },
  {
   "cell_type": "markdown",
   "metadata": {},
   "source": [
    "Para el desarrollo de este taller se escogieron las siguientes características:\n",
    "- Promedio de intensidad azu.\n",
    "- Promedio de intensidad roja. \n",
    "- Promedio de intensidad verde.\n",
    "- Porcentaje de pixeles con % de intensidad azul > 125.\n",
    "- Porcentaje de pixeles con % de intensidad RGB > 230.\n",
    "- Porcentaje de pixeles con % de intensidad RGB < 80.\n",
    "- Mediana de intensidad.\n",
    "- Mínimo de intensidad.\n",
    "- Máximo de intensidad.\n",
    "- Rango de intensidad.\n",
    "- Contraste.\n",
    "- Correlación.\n",
    "- Energía.\n",
    "- Homogeneidad.\n",
    "\n"
   ]
  },
  {
   "cell_type": "code",
   "execution_count": 2,
   "metadata": {},
   "outputs": [],
   "source": [
    "def calcular_caracteristicas(img):\n",
    "    \n",
    "    b, g, r = cv2.split(img)\n",
    "\n",
    "    # Promedio de intensidad de cada canal\n",
    "    promedio_azul = np.mean(b)\n",
    "    promedio_verde = np.mean(g)\n",
    "    promedio_rojo = np.mean(r)\n",
    "\n",
    "    # Porcentaje de píxeles con intensidad azul > 125\n",
    "    pixeles_azul_mayor_125 = np.count_nonzero(b > 125)\n",
    "    total_pixeles = b.size\n",
    "    porcentaje_azul_mayor_125 = (pixeles_azul_mayor_125 / total_pixeles) * 100\n",
    "\n",
    "    # Porcentaje de píxeles con intensidad RGB > 230\n",
    "    pixeles_rgb_mayor_230 = np.count_nonzero(img > 230)\n",
    "    porcentaje_rgb_mayor_230 = (pixeles_rgb_mayor_230 / total_pixeles) * 100\n",
    "\n",
    "    # Porcentaje de píxeles con intensidad RGB < 80\n",
    "    pixeles_rgb_menor_80 = np.count_nonzero(img < 80)\n",
    "    porcentaje_rgb_menor_80 = (pixeles_rgb_menor_80 / total_pixeles) * 100\n",
    "\n",
    "    # Mediana de intensidad \n",
    "    mediana_azul = np.median(b)\n",
    "    mediana_verde = np.median(g)\n",
    "    mediana_rojo = np.median(r)\n",
    "\n",
    "    # Mínimo y máximo de intensidad \n",
    "    minimo_azul = np.min(b)\n",
    "    minimo_verde = np.min(g)\n",
    "    minimo_rojo = np.min(r)\n",
    "    maximo_azul = np.max(b)\n",
    "    maximo_verde = np.max(g)\n",
    "    maximo_rojo = np.max(r)\n",
    "\n",
    "    # Rango de intensidad \n",
    "    rango_azul = maximo_azul - minimo_azul\n",
    "    rango_verde = maximo_verde - minimo_verde\n",
    "    rango_rojo = maximo_rojo - minimo_rojo\n",
    "\n",
    "\n",
    "    # Coeficientes de la matriz de co-ocurrencia \n",
    "    \n",
    "    glcm_azul = cv2.calcHist([b], [0], None, [256], [0, 256])\n",
    "    glcm_verde = cv2.calcHist([g], [0], None, [256], [0, 256])\n",
    "    glcm_rojo = cv2.calcHist([r], [0], None, [256], [0, 256])\n",
    "\n",
    "    # Contraste\n",
    "\n",
    "    contraste_azul = cv2.compareHist(cv2.calcHist([b], [0], None, [256], [0, 256]),glcm_azul, cv2.HISTCMP_CORREL)\n",
    "    contraste_verde = cv2.compareHist(cv2.calcHist([g], [0], None, [256], [0, 256]),glcm_verde, cv2.HISTCMP_CORREL)\n",
    "    contraste_rojo = cv2.compareHist(cv2.calcHist([r], [0], None, [256], [0, 256]),glcm_rojo, cv2.HISTCMP_CORREL)\n",
    "\n",
    "    # Correlación\n",
    "\n",
    "    correlacion_azul = cv2.compareHist(cv2.calcHist([b], [0], None, [256], [0, 256]),glcm_azul, cv2.HISTCMP_CORREL)\n",
    "    correlacion_verde = cv2.compareHist(cv2.calcHist([g], [0], None, [256], [0, 256]),glcm_verde, cv2.HISTCMP_CORREL)\n",
    "    correlacion_rojo = cv2.compareHist(cv2.calcHist([r], [0], None, [256], [0, 256]),glcm_rojo, cv2.HISTCMP_CORREL)\n",
    "\n",
    "    # Energía\n",
    "\n",
    "    energia_azul = np.sum(glcm_azul ** 2)\n",
    "    energia_verde = np.sum(glcm_verde ** 2)\n",
    "    energia_rojo = np.sum(glcm_rojo ** 2)\n",
    "\n",
    "    # Homogeneidad\n",
    "\n",
    "    homogeneidad_azul = cv2.compareHist(cv2.calcHist([b], [0], None, [256], [0, 256]),glcm_azul, cv2.HISTCMP_INTERSECT)\n",
    "    homogeneidad_verde = cv2.compareHist(cv2.calcHist([g], [0], None, [256], [0, 256]),glcm_verde, cv2.HISTCMP_INTERSECT)\n",
    "    homogeneidad_rojo = cv2.compareHist(cv2.calcHist([r], [0], None, [256], [0, 256]),glcm_rojo, cv2.HISTCMP_INTERSECT)\n",
    "\n",
    "    \n",
    "   \n",
    "    # Formar el vector de características\n",
    "    caracteristicas = [\n",
    "        promedio_azul, promedio_verde, promedio_rojo,\n",
    "        porcentaje_azul_mayor_125,\n",
    "        porcentaje_rgb_mayor_230,\n",
    "        porcentaje_rgb_menor_80,\n",
    "        mediana_azul, mediana_verde, mediana_rojo,\n",
    "        minimo_azul, minimo_verde, minimo_rojo,\n",
    "        maximo_azul, maximo_verde, maximo_rojo,\n",
    "        rango_azul, rango_verde, rango_rojo,\n",
    "        contraste_azul, contraste_verde, contraste_rojo,\n",
    "        correlacion_azul, correlacion_verde, correlacion_rojo,\n",
    "        energia_azul, energia_verde, energia_rojo,\n",
    "        homogeneidad_azul, homogeneidad_verde, homogeneidad_rojo\n",
    "    ]\n",
    "\n",
    "    return caracteristicas"
   ]
  },
  {
   "cell_type": "code",
   "execution_count": 8,
   "metadata": {},
   "outputs": [],
   "source": [
    "# Cargar imagenes\n",
    "\n",
    "imagenes = []\n",
    "\n",
    "for i in range(1, 31):\n",
    "    nombre_imagen = 'Imagenes/' + str(i) + '.jpg'\n",
    "    img = cv2.imread(nombre_imagen)\n",
    "    imagenes.append(img)\n",
    "\n",
    "\n"
   ]
  },
  {
   "cell_type": "code",
   "execution_count": 7,
   "metadata": {},
   "outputs": [],
   "source": [
    "caracteristicas=[]\n",
    "\n",
    "for i in imagenes:\n",
    "    caracteristicas.append(calcular_caracteristicas(i))"
   ]
  },
  {
   "cell_type": "code",
   "execution_count": 9,
   "metadata": {},
   "outputs": [
    {
     "name": "stdout",
     "output_type": "stream",
     "text": [
      "[89.92062476886095, 103.11324573163215, 105.02213557075937, 20.25197238658777, 23.720314040927022, 125.28902397682447, 80.0, 95.0, 99.0, 0, 0, 0, 255, 255, 255, 255, 255, 255, 1.0, 1.0, 1.0, 1.0, 1.0, 1.0, 1253811200000.0, 1335682800000.0, 1257425500000.0, 12979200.0, 12979200.0, 12979200.0]\n"
     ]
    }
   ],
   "source": [
    "print(caracteristicas[1])"
   ]
  }
 ],
 "metadata": {
  "kernelspec": {
   "display_name": "Python 3",
   "language": "python",
   "name": "python3"
  },
  "language_info": {
   "codemirror_mode": {
    "name": "ipython",
    "version": 3
   },
   "file_extension": ".py",
   "mimetype": "text/x-python",
   "name": "python",
   "nbconvert_exporter": "python",
   "pygments_lexer": "ipython3",
   "version": "3.10.8"
  }
 },
 "nbformat": 4,
 "nbformat_minor": 2
}
