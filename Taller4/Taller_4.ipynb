{
 "cells": [
  {
   "cell_type": "markdown",
   "metadata": {},
   "source": [
    "# Taller 4: Segmenación\n",
    "\n",
    "#### Daniel Felipe Segura Rincon\n",
    "#### Andres Felipe Zuleta Romero\n",
    "#### Juan Andres Barrera Rodriguez"
   ]
  },
  {
   "cell_type": "code",
   "execution_count": 1,
   "metadata": {},
   "outputs": [],
   "source": [
    "import cv2\n",
    "import numpy as np"
   ]
  },
  {
   "cell_type": "code",
   "execution_count": 4,
   "metadata": {},
   "outputs": [],
   "source": [
    "import cv2\n",
    "import numpy as np\n",
    "\n",
    "def split_and_merge(image, threshold):\n",
    "    # Convertir la imagen a escala de grises\n",
    "    gray = cv2.cvtColor(image, cv2.COLOR_BGR2GRAY)\n",
    "\n",
    "    # Calcular la desviación estándar de la intensidad de píxeles en la imagen\n",
    "    stddev = np.std(gray)\n",
    "\n",
    "    # Si la desviación estándar es menor que el umbral, consideramos que la imagen es uniforme\n",
    "    if stddev < threshold:\n",
    "        # Crear una máscara de tamaño igual a la imagen con todos los píxeles activados\n",
    "        mask = np.ones_like(gray, dtype=bool)\n",
    "\n",
    "        # Convertir la máscara a una matriz de 0 y 255 (para su visualización)\n",
    "        mask = np.where(mask, 255, 0).astype(np.uint8)\n",
    "    else:\n",
    "        # Calcular la altura y el ancho de la imagen\n",
    "        h, w = image.shape[:2]\n",
    "\n",
    "        # Dividir la imagen en cuatro cuadrantes\n",
    "        top_left = gray[:h//2, :w//2]\n",
    "        top_right = gray[:h//2, w//2:]\n",
    "        bottom_left = gray[h//2:, :w//2]\n",
    "        bottom_right = gray[h//2:, w//2:]\n",
    "\n",
    "        # Llamar recursivamente a la función para cada cuadrante\n",
    "        top_left_mask = split_and_merge(top_left, threshold)\n",
    "        top_right_mask = split_and_merge(top_right, threshold)\n",
    "        bottom_left_mask = split_and_merge(bottom_left, threshold)\n",
    "        bottom_right_mask = split_and_merge(bottom_right, threshold)\n",
    "\n",
    "        # Fusionar las máscaras de los cuadrantes\n",
    "        top_mask = np.hstack((top_left_mask, top_right_mask))\n",
    "        bottom_mask = np.hstack((bottom_left_mask, bottom_right_mask))\n",
    "        mask = np.vstack((top_mask, bottom_mask))\n",
    "\n",
    "    return mask\n",
    "\n",
    "\n"
   ]
  },
  {
   "cell_type": "code",
   "execution_count": null,
   "metadata": {},
   "outputs": [],
   "source": [
    "# Cargar la imagen\n",
    "image = cv2.imread('')\n",
    "\n",
    "# Establecer el umbral de similitud\n",
    "threshold = 50\n",
    "\n",
    "# Segmentar la imagen por similitud\n",
    "segmented_image = split_and_merge(image, threshold)\n",
    "\n",
    "# Mostrar la imagen segmentada\n",
    "cv2.imshow('Imagen Segmentada', segmented_image)\n",
    "cv2.waitKey(0)\n",
    "cv2.destroyAllWindows()"
   ]
  }
 ],
 "metadata": {
  "kernelspec": {
   "display_name": "Python 3",
   "language": "python",
   "name": "python3"
  },
  "language_info": {
   "codemirror_mode": {
    "name": "ipython",
    "version": 3
   },
   "file_extension": ".py",
   "mimetype": "text/x-python",
   "name": "python",
   "nbconvert_exporter": "python",
   "pygments_lexer": "ipython3",
   "version": "3.10.8"
  }
 },
 "nbformat": 4,
 "nbformat_minor": 2
}
