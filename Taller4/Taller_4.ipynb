{
 "cells": [
  {
   "cell_type": "markdown",
   "metadata": {},
   "source": [
    "# Taller 4: Segmenación\n",
    "\n",
    "#### Daniel Felipe Segura Rincon\n",
    "#### Andres Felipe Zuleta Romero\n",
    "#### Juan Andres Barrera Rodriguez"
   ]
  },
  
